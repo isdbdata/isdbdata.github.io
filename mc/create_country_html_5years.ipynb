{
 "cells": [
  {
   "cell_type": "code",
   "execution_count": 1,
   "metadata": {
    "collapsed": true
   },
   "outputs": [],
   "source": [
    "import pandas as pd"
   ]
  },
  {
   "cell_type": "code",
   "execution_count": 2,
   "metadata": {
    "collapsed": true
   },
   "outputs": [],
   "source": [
    "eiu_data = pd.read_csv('EIU_Indicators.csv', na_values=['..','--'], encoding=\"ISO-8859-1\")"
   ]
  },
  {
   "cell_type": "code",
   "execution_count": 3,
   "metadata": {
    "collapsed": true
   },
   "outputs": [],
   "source": [
    "imf_data = pd.read_csv('IMF_Indicators.csv', na_values=['..','--'], encoding=\"ISO-8859-1\")"
   ]
  },
  {
   "cell_type": "code",
   "execution_count": 4,
   "metadata": {
    "collapsed": true
   },
   "outputs": [],
   "source": [
    "mc = ['AFG', 'ALB', 'DZA', 'AZE', 'BHR', 'BGD', 'BEN', 'BRN', 'BFA', 'CMR', 'TCD', 'COM', 'CIV', 'DJI', 'EGY', 'GAB', 'GMB', 'GIN', 'GNB', 'GUY', 'IDN', 'IRN', 'IRQ', 'JOR', 'KAZ', 'KWT', 'KGZ', 'LBN', 'LBY', 'MYS', 'MDV', 'MLI', 'MRT', 'MAR', 'MOZ', 'NER', 'NGA', 'OMN', 'PAK', 'PSE', 'QAT', 'SAU', 'SEN', 'SLE', 'SOM', 'SDN', 'SUR', 'SYR', 'TJK', 'TGO', 'TUN', 'TUR', 'TKM', 'ARE', 'UGA', 'UZB', 'YEM']"
   ]
  },
  {
   "cell_type": "code",
   "execution_count": 5,
   "metadata": {
    "collapsed": true
   },
   "outputs": [],
   "source": [
    "countries = \"Afghanistan, Albania, Algeria, Azerbaijan, Bahrain, Bangladesh, Benin, Brunei, Burkina Faso, Cameroon, Chad, Comoros, Côte d'Ivoire, Djibouti, Egypt, Gabon, Gambia, Guinea, Guinea-Bissau, Guyana, Indonesia, Iran, Iraq, Jordan, Kazakhstan, Kuwait, Kyrgyz Republic, Lebanon, Libya, Malaysia, Maldives, Mali, Mauritania, Morocco, Mozambique, Niger, Nigeria, Oman, Pakistan, Palestine, Qatar, Saudi Arabia, Senegal, Sierra Leone, Somalia, Sudan, Suriname, Syria, Tajikistan, Togo, Tunisia, Turkey, Turkmenistan, U.A.E., Uganda, Uzbekistan, Yemen\""
   ]
  },
  {
   "cell_type": "code",
   "execution_count": 13,
   "metadata": {},
   "outputs": [
    {
     "name": "stdout",
     "output_type": "stream",
     "text": [
      "<class 'pandas.core.frame.DataFrame'>\n",
      "RangeIndex: 22559 entries, 0 to 22558\n",
      "Data columns (total 54 columns):\n",
      "economy             22559 non-null object\n",
      "indicator           22559 non-null object\n",
      "code                22559 non-null object\n",
      "region.cd           3165 non-null object\n",
      "region.erpd         3213 non-null object\n",
      "fuel                3837 non-null object\n",
      "ldmc                3117 non-null object\n",
      "member              22559 non-null object\n",
      "groupmember         22405 non-null object\n",
      "1980                5476 non-null float64\n",
      "1981                7271 non-null float64\n",
      "1982                7696 non-null float64\n",
      "1983                7841 non-null float64\n",
      "1984                8157 non-null float64\n",
      "1985                8560 non-null float64\n",
      "1986                8730 non-null float64\n",
      "1987                8996 non-null float64\n",
      "1988                9075 non-null float64\n",
      "1989                9346 non-null float64\n",
      "1990                10032 non-null float64\n",
      "1991                10470 non-null float64\n",
      "1992                10997 non-null float64\n",
      "1993                11980 non-null float64\n",
      "1994                12691 non-null float64\n",
      "1995                14392 non-null float64\n",
      "1996                14776 non-null float64\n",
      "1997                15054 non-null float64\n",
      "1998                15281 non-null float64\n",
      "1999                15574 non-null float64\n",
      "2000                15828 non-null float64\n",
      "2001                15970 non-null float64\n",
      "2002                16137 non-null float64\n",
      "2003                16231 non-null float64\n",
      "2004                16291 non-null float64\n",
      "2005                16330 non-null float64\n",
      "2006                16358 non-null float64\n",
      "2007                16345 non-null float64\n",
      "2008                16369 non-null float64\n",
      "2009                16372 non-null float64\n",
      "2010                16357 non-null float64\n",
      "2011                16319 non-null float64\n",
      "2012                16282 non-null float64\n",
      "2013                16262 non-null float64\n",
      "2014                16249 non-null float64\n",
      "2015                16203 non-null float64\n",
      "2016                16013 non-null float64\n",
      "2017                15437 non-null float64\n",
      "2018                15447 non-null float64\n",
      "2019                9875 non-null float64\n",
      "2020                9198 non-null float64\n",
      "2021                9202 non-null float64\n",
      "2022                2979 non-null float64\n",
      "growth 1998-2007    6869 non-null float64\n",
      "growth 2008-2017    6759 non-null float64\n",
      "dtypes: float64(45), object(9)\n",
      "memory usage: 9.3+ MB\n"
     ]
    }
   ],
   "source": [
    "eiu_data.info()"
   ]
  },
  {
   "cell_type": "code",
   "execution_count": 203,
   "metadata": {},
   "outputs": [],
   "source": [
    "def insert_canvas(row):\n",
    "    list = []\n",
    "    for item in row[1:]:\n",
    "        if np.isnan(item):\n",
    "            list.append('null')\n",
    "        else:\n",
    "            item = \"{:.2f}\".format(item)\n",
    "            list.append(item)\n",
    "    list = remove_nulls(list)\n",
    "    return(\"<td><canvas id='BHR' class='sparkline' data-chart_values=[{}]></canvas></td></tr>\".format(','.join(str(e) for e in list)))"
   ]
  },
  {
   "cell_type": "code",
   "execution_count": 209,
   "metadata": {},
   "outputs": [],
   "source": [
    "def remove_nulls(list):\n",
    "    #this function removes all nulls in the beginning of a list\n",
    "    # used in the function insert_canvas to enable chartjs figures\n",
    "    while list[0]=='null' and len(list)>1:\n",
    "        list = list[1:]\n",
    "    return list"
   ]
  },
  {
   "cell_type": "code",
   "execution_count": 151,
   "metadata": {},
   "outputs": [],
   "source": [
    "def insert_rowdata(row,start,end):\n",
    "    import numpy as np\n",
    "    table = \"<tr><th scope='row'>{}</th>\".format(row[0])\n",
    "    year = 2012\n",
    "    for item in row[start:end]:\n",
    "        case1 = '<td>{}</td>'\n",
    "        case2 = \"<td class='current'>{}</td>\"\n",
    "        if np.isnan(item):\n",
    "            item = '..'\n",
    "        else:\n",
    "            item = \"{:.2f}\".format(item)\n",
    "        \n",
    "        if year == 2017:\n",
    "            table = table +case2.format(item)\n",
    "        else:\n",
    "            table = table + case1.format(item)\n",
    "        year = year + 1\n",
    "    return(table)"
   ]
  },
  {
   "cell_type": "code",
   "execution_count": 205,
   "metadata": {
    "collapsed": true
   },
   "outputs": [],
   "source": [
    "def country_html2(df, c_code, c_name):\n",
    "    import numpy as np\n",
    "    # for indicators change the folder name\n",
    "    # also change the trend dates (countries 2012 - 2022 and indicators 1990 - 2022)\n",
    "    head = '''\n",
    "     <h1>{} \n",
    "                <a href='indicators/xl/{}.xlsx'>\n",
    "                  <i class=\"fa fa-file-excel-o\" aria-hidden=\"true\" style=\"float: right\"></i>\n",
    "                  </a>\n",
    "                  <a href='indicators/pdf/{}.pdf'>\n",
    "                  <i class=\"fa fa-file-pdf-o\" aria-hidden=\"true\" style=\"float: right\">&nbsp;&nbsp;</i>\n",
    "                  </a>\n",
    "                  </h1>\n",
    "                <div class=\"table-responsive\">\n",
    "                  <table class=\"table table-striped table-fixed\">\n",
    "               <thead>\n",
    "                <tr>\n",
    "                  <th></th>\n",
    "                  <th>2012</th>\n",
    "                  <th>2013</th>\n",
    "                  <th>2014</th>\n",
    "                  <th>2015</th>\n",
    "                  <th>2016</th>\n",
    "                  <th class='current'>2017</th>\n",
    "                  <th>2018</th>\n",
    "                  <th class = 'trend'>Trend (1990-2022)</th> \n",
    "                </tr>\n",
    "               </thead>\n",
    "               <tbody>\n",
    "\n",
    "    '''.format(c_name,c_code, c_code)\n",
    "    foot = '''\n",
    "                </tbody>\n",
    "              </table>\n",
    "            </div> \n",
    "            <script src=\"js/line.js\"></script>   \n",
    "        '''\n",
    "    insert = ''\n",
    "    for index, row in df.iterrows():\n",
    "        # for indicators change the start and end to 23, 30\n",
    "        # for countries change it to 1 and 8\n",
    "        insert = insert + insert_rowdata(row,23,30) + insert_canvas(row)\n",
    "\n",
    "    final = head + insert + foot\n",
    "#     return final\n",
    "    Html_file= open(\"{}.html\".format(c_code),\"w\")\n",
    "    Html_file.write(final)\n",
    "    Html_file.close()"
   ]
  },
  {
   "cell_type": "code",
   "execution_count": 187,
   "metadata": {
    "collapsed": true
   },
   "outputs": [],
   "source": [
    "import pandas as pd\n",
    "mc = ['AFG', 'ALB', 'DZA', 'AZE', 'BHR', 'BGD', 'BEN', 'BRN', 'BFA', 'CMR', 'TCD', 'COM', 'CIV', 'DJI', 'EGY', 'GAB', 'GMB', 'GIN', 'GNB', 'GUY', 'IDN', 'IRN', 'IRQ', 'JOR', 'KAZ', 'KWT', 'KGZ', 'LBN', 'LBY', 'MYS', 'MDV', 'MLI', 'MRT', 'MAR', 'MOZ', 'NER', 'NGA', 'OMN', 'PAK', 'PSE', 'QAT', 'SAU', 'SEN', 'SLE', 'SOM', 'SDN', 'SUR', 'SYR', 'TJK', 'TGO', 'TUN', 'TUR', 'TKM', 'ARE', 'UGA', 'UZB', 'YEM']\n",
    "countries = \"Afghanistan, Albania, Algeria, Azerbaijan, Bahrain, Bangladesh, Benin, Brunei, Burkina Faso, Cameroon, Chad, Comoros, Côte d'Ivoire, Djibouti, Egypt, Gabon, Gambia, Guinea, Guinea-Bissau, Guyana, Indonesia, Iran, Iraq, Jordan, Kazakhstan, Kuwait, Kyrgyz Republic, Lebanon, Libya, Malaysia, Maldives, Mali, Mauritania, Morocco, Mozambique, Niger, Nigeria, Oman, Pakistan, Palestine, Qatar, Saudi Arabia, Senegal, Sierra Leone, Somalia, Sudan, Suriname, Syria, Tajikistan, Togo, Tunisia, Turkey, Turkmenistan, U.A.E., Uganda, Uzbekistan, Yemen\"\n",
    "countries = [x.strip() for x in countries.split(',')]\n",
    "i = 0\n",
    "for c in mc:\n",
    "    file = 'countries/xl/{}.xlsx'.format(c)\n",
    "    df = pd.read_excel(file, header=1, skiprows=1, skip_footer=3, na_values='..')\n",
    "    country_html2(df, c, countries[i])\n",
    "    i = i + 1"
   ]
  },
  {
   "cell_type": "markdown",
   "metadata": {},
   "source": [
    "# indicators"
   ]
  },
  {
   "cell_type": "code",
   "execution_count": 135,
   "metadata": {
    "collapsed": true
   },
   "outputs": [],
   "source": [
    "file = 'indicators/xl/GDPPPP.xlsx'"
   ]
  },
  {
   "cell_type": "code",
   "execution_count": 141,
   "metadata": {
    "collapsed": true
   },
   "outputs": [],
   "source": [
    "df1 = pd.read_excel(file, header=1, skiprows=1, skip_footer=3, na_values='..', sheetname='countries')"
   ]
  },
  {
   "cell_type": "code",
   "execution_count": 144,
   "metadata": {
    "collapsed": true
   },
   "outputs": [],
   "source": [
    "df2 = pd.read_excel(file, header=1, skiprows=1, skip_footer=3, na_values='..', sheetname='aggregates')"
   ]
  },
  {
   "cell_type": "code",
   "execution_count": 158,
   "metadata": {},
   "outputs": [],
   "source": [
    "df = pd.concat([df1,df2])"
   ]
  },
  {
   "cell_type": "code",
   "execution_count": 163,
   "metadata": {},
   "outputs": [],
   "source": [
    "country_html2(df, 'GDPPPP', 'Current GDP PPP Per Capita (US$)',23,30)"
   ]
  },
  {
   "cell_type": "code",
   "execution_count": null,
   "metadata": {
    "collapsed": true
   },
   "outputs": [],
   "source": [
    "country_html2(prepare_html('bud_balance'), 'bud_balance', 'Budget balance (% of GDP)')"
   ]
  },
  {
   "cell_type": "code",
   "execution_count": 167,
   "metadata": {
    "collapsed": true
   },
   "outputs": [],
   "source": [
    "def prepare_html(name):\n",
    "    file = 'indicators/xl/{}.xlsx'.format(name)\n",
    "    df1 = pd.read_excel(file, header=1, skiprows=1, skip_footer=3, na_values='..', sheetname='countries')\n",
    "    df2 = pd.read_excel(file, header=1, skiprows=1, skip_footer=3, na_values='..', sheetname='aggregates')\n",
    "    df = pd.concat([df1,df2])\n",
    "    return df"
   ]
  },
  {
   "cell_type": "code",
   "execution_count": 212,
   "metadata": {
    "collapsed": true
   },
   "outputs": [],
   "source": [
    "country_html2(prepare_html('bud_balance'), 'bud_balance', 'Budget balance (% of GDP)')"
   ]
  },
  {
   "cell_type": "code",
   "execution_count": 213,
   "metadata": {
    "collapsed": true
   },
   "outputs": [],
   "source": [
    "country_html2(prepare_html('gov_revenue'), 'gov_revenue', 'General Government Revenue (% of GDP)')"
   ]
  },
  {
   "cell_type": "code",
   "execution_count": 214,
   "metadata": {
    "collapsed": true
   },
   "outputs": [],
   "source": [
    "country_html2(prepare_html('gov_expenditure'), 'gov_expenditure', 'General Government Total Expenditure (% of GDP)')"
   ]
  },
  {
   "cell_type": "code",
   "execution_count": 215,
   "metadata": {
    "collapsed": true
   },
   "outputs": [],
   "source": [
    "country_html2(prepare_html('saving'), 'saving', 'Gross National Saving (% of GDP)')"
   ]
  },
  {
   "cell_type": "code",
   "execution_count": 216,
   "metadata": {
    "collapsed": true
   },
   "outputs": [],
   "source": [
    "country_html2(prepare_html('saving'), 'saving', 'Gross National Saving (% of GDP)')"
   ]
  },
  {
   "cell_type": "code",
   "execution_count": 217,
   "metadata": {
    "collapsed": true
   },
   "outputs": [],
   "source": [
    "country_html2(prepare_html('investment'), 'investment', 'Total Investment (% of GDP)')"
   ]
  },
  {
   "cell_type": "code",
   "execution_count": 218,
   "metadata": {
    "collapsed": true
   },
   "outputs": [],
   "source": [
    "country_html2(prepare_html('GDPPPP'), 'GDPPPP', 'Current GDP PPP Per Capita (US$)')"
   ]
  },
  {
   "cell_type": "code",
   "execution_count": 219,
   "metadata": {
    "collapsed": true
   },
   "outputs": [],
   "source": [
    "country_html2(prepare_html('trade_balance'), 'trade_balance', 'Trade Balance (% of GDP)')"
   ]
  },
  {
   "cell_type": "code",
   "execution_count": 220,
   "metadata": {
    "collapsed": true
   },
   "outputs": [],
   "source": [
    "country_html2(prepare_html('gov_debt'), 'gov_debt', 'General Government Gross Debt (% of GDP)')"
   ]
  },
  {
   "cell_type": "code",
   "execution_count": 221,
   "metadata": {
    "collapsed": true
   },
   "outputs": [],
   "source": [
    "country_html2(prepare_html('total_debt'), 'total_debt', 'Total Debt (% of GDP)')"
   ]
  },
  {
   "cell_type": "code",
   "execution_count": 222,
   "metadata": {
    "collapsed": true
   },
   "outputs": [],
   "source": [
    "country_html2(prepare_html('reserves'), 'reserves', 'International Reserves (US$ Billion)')"
   ]
  },
  {
   "cell_type": "code",
   "execution_count": 223,
   "metadata": {
    "collapsed": true
   },
   "outputs": [],
   "source": [
    "country_html2(prepare_html('interest'), 'interest', 'Interest Paid (% of GDP)')"
   ]
  },
  {
   "cell_type": "markdown",
   "metadata": {},
   "source": [
    "## imf FILES"
   ]
  },
  {
   "cell_type": "code",
   "execution_count": 210,
   "metadata": {},
   "outputs": [],
   "source": [
    "country_html2(prepare_html('CABGDP'), 'CABGDP', 'Current Account Balance (% Change)')"
   ]
  },
  {
   "cell_type": "code",
   "execution_count": 224,
   "metadata": {
    "collapsed": true
   },
   "outputs": [],
   "source": [
    "country_html2(prepare_html('inflation'), 'inflation', 'Inflation, average consumer prices (% Change)')"
   ]
  },
  {
   "cell_type": "code",
   "execution_count": 225,
   "metadata": {
    "collapsed": true
   },
   "outputs": [],
   "source": [
    "country_html2(prepare_html('GDP'), 'GDP', 'Real GDP Growth (% Change)')"
   ]
  },
  {
   "cell_type": "code",
   "execution_count": null,
   "metadata": {
    "collapsed": true
   },
   "outputs": [],
   "source": []
  }
 ],
 "metadata": {
  "kernelspec": {
   "display_name": "Python 3",
   "language": "python",
   "name": "python3"
  },
  "language_info": {
   "codemirror_mode": {
    "name": "ipython",
    "version": 3
   },
   "file_extension": ".py",
   "mimetype": "text/x-python",
   "name": "python",
   "nbconvert_exporter": "python",
   "pygments_lexer": "ipython3",
   "version": "3.6.1"
  }
 },
 "nbformat": 4,
 "nbformat_minor": 2
}

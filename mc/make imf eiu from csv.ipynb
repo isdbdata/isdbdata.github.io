{
 "cells": [
  {
   "cell_type": "markdown",
   "metadata": {},
   "source": [
    "# Create EIU indicator files"
   ]
  },
  {
   "cell_type": "code",
   "execution_count": 2,
   "metadata": {
    "collapsed": true
   },
   "outputs": [],
   "source": [
    "import pandas as pd"
   ]
  },
  {
   "cell_type": "code",
   "execution_count": 3,
   "metadata": {},
   "outputs": [],
   "source": [
    "eiu_data = pd.read_csv('EIU_Indicators.csv', na_values=['..','--'], encoding=\"ISO-8859-1\")"
   ]
  },
  {
   "cell_type": "code",
   "execution_count": 4,
   "metadata": {
    "collapsed": true
   },
   "outputs": [],
   "source": [
    "imf_data = pd.read_csv('IMF_Indicators.csv', na_values=['..','--'], encoding=\"ISO-8859-1\")"
   ]
  },
  {
   "cell_type": "code",
   "execution_count": null,
   "metadata": {},
   "outputs": [],
   "source": [
    "eiu_data.indicator.unique()"
   ]
  },
  {
   "cell_type": "markdown",
   "metadata": {},
   "source": [
    "Some of our indicators are taken from IMF, hence we need to delete them from here."
   ]
  },
  {
   "cell_type": "code",
   "execution_count": 5,
   "metadata": {
    "collapsed": true
   },
   "outputs": [],
   "source": [
    "def save_excel(out, out2, file_name, indicator_name,source,width=5):\n",
    "    writer = pd.ExcelWriter(file_name,engine='xlsxwriter')\n",
    "    out.to_excel(writer,'countries', na_rep='..', index=False, float_format='%.1f', startrow=2)\n",
    "    out2.to_excel(writer,'aggregates', na_rep='..', index=False, float_format='%.1f', startrow=2)\n",
    "\n",
    "    workbook  = writer.book\n",
    "    format1 = workbook.add_format({'bold': True, 'font_size': 14})\n",
    "    format2 = workbook.add_format({'bold': False, 'font_size': 9, 'italic':True})\n",
    "    format3 = workbook.add_format({'shrink':True, 'align':'center'})\n",
    "    format4 = workbook.add_format({'border':1})\n",
    "\n",
    "    worksheet1 = writer.sheets['countries']\n",
    "    worksheet1.print_area('A1:AH60') \n",
    "    worksheet1.fit_to_pages(1, 1)\n",
    "    worksheet1.write_string(0, 0, indicator_name, format1)\n",
    "    worksheet1.write_string(1, 0, source, format2)\n",
    "    worksheet1.set_column('C:K', None, None, {'hidden': True})\n",
    "    worksheet1.set_column('B:AH', width, format3)\n",
    "    worksheet1.set_column('A:A', 13)\n",
    "    worksheet1.conditional_format('A4:AH60', {'type': 'no_blanks',\n",
    "                                           'format': format4})\n",
    "    worksheet1.hide_gridlines(2)\n",
    "    worksheet1.print_area('A1:AH60') \n",
    "    worksheet1.fit_to_pages(1, 1)\n",
    "\n",
    "\n",
    "    worksheet2 = writer.sheets['aggregates']\n",
    "    worksheet2.print_area('A1:AH20') \n",
    "    worksheet2.write_string(0, 0, indicator_name, format1)\n",
    "    worksheet2.write_string(1, 0, source, format2)\n",
    "    worksheet2.set_column('C:K', None, None, {'hidden': True})\n",
    "    worksheet2.set_column('B:AH', width, format3)\n",
    "    worksheet2.set_column('A:A', 28)\n",
    "    worksheet2.conditional_format('A4:AH20', {'type': 'no_blanks',\n",
    "                                           'format': format4})\n",
    "    worksheet2.hide_gridlines(2)\n",
    "    worksheet2.print_area('A1:AH20')\n",
    "    worksheet2.fit_to_pages(1, 1)\n",
    "    worksheet2.set_landscape()\n",
    "    writer.save()"
   ]
  },
  {
   "cell_type": "code",
   "execution_count": 6,
   "metadata": {},
   "outputs": [],
   "source": [
    "def get_eiu(indicator,df,file_name, source,width):\n",
    "    cols = ['Economy','1990','1991', '1992', '1993','1994', '1995', '1996', '1997', '1998', \n",
    "            '1999', '2000', '2001', '2002', '2003','2004','2005', '2006','2007','2008','2009', '2010',\n",
    "            '2011','2012','2013', '2014','2015', '2016', '2017', '2018', '2019', '2020', '2021', '2022']\n",
    "    res1 = pd.DataFrame(columns=cols)\n",
    "    res2 = pd.DataFrame(columns=cols)\n",
    "    countries = \"Afghanistan, Albania, Algeria, Azerbaijan, Bahrain, Bangladesh, Benin, Brunei, Burkina Faso, Cameroon, Chad, Comoros, Côte d'Ivoire, Djibouti, Egypt, Gabon, Gambia, Guinea, Guinea-Bissau, Guyana, Indonesia, Iran, Iraq, Jordan, Kazakhstan, Kuwait, Kyrgyz Republic, Lebanon, Libya, Malaysia, Maldives, Mali, Mauritania, Morocco, Mozambique, Niger, Nigeria, Oman, Pakistan, Palestine, Qatar, Saudi Arabia, Senegal, Sierra Leone, Somalia, Sudan, Suriname, Syria, Tajikistan, Togo, Tunisia, Turkey, Turkmenistan, U.A.E., Uganda, Uzbekistan, Yemen\"\n",
    "    countries = [x.strip() for x in countries.split(',')]\n",
    "    regions = ['IDB','IDB Fuel Exporters','IDB Non-Fuel Exporters','IDB SSA Region','IDB SSA Fuel Exporters',\n",
    "               'IDB SSA Non-Fuel Exporters','IDB ARAB Region','IDB ARAB Fuel Exporters','IDB ARAB Non-Fuel Exporters',\n",
    "               'IDB ASIA Region','IDB ASIA Fuel Exporters','IDB ASIA Non-Fuel Exporters','IDB LDMC','IDB Non-LDMC',\n",
    "               'IMF Emerging and Developing Economies','UNCTAD Developed Countries','World']\n",
    "    i=0\n",
    "    for country in countries:      \n",
    "        mask_country = df['economy']== country\n",
    "        mask_indicator = df['indicator']==indicator\n",
    "        res1.loc[i] = [country] + df.loc[mask_country & mask_indicator,'1990':'2022'].values[0].tolist()\n",
    "        i = i+1\n",
    "    i=0\n",
    "    rename_region=''\n",
    "    for region in regions:\n",
    "        rename_region = region\n",
    "        if region=='IMF Emerging and Developing Economies':\n",
    "            rename_region = 'Emerging and Developing Economies'\n",
    "        if region=='UNCTAD Developed Countries':\n",
    "            rename_region = 'Advanced Economies'\n",
    "        mask_country = df['economy']== region\n",
    "        mask_indicator = df['indicator']==indicator\n",
    "        res2.loc[i] = [rename_region] + df.loc[mask_country & mask_indicator,'1990':'2022'].values[0].tolist()\n",
    "        i = i+1\n",
    "    save_excel(res1,res2,file_name,indicator,source,width)"
   ]
  },
  {
   "cell_type": "code",
   "execution_count": null,
   "metadata": {},
   "outputs": [],
   "source": [
    "get_eiu('Budget balance (% of GDP)', eiu_data, 'bud_balance.xlsx', 'Source: Economist Intelligence Unit (Oct. 2017)')"
   ]
  },
  {
   "cell_type": "code",
   "execution_count": null,
   "metadata": {
    "collapsed": true
   },
   "outputs": [],
   "source": [
    "get_eiu('Trade balance (% of GDP)', eiu_data, 'trade_balance.xlsx','Source: Economist Intelligence Unit (Oct. 2017)')"
   ]
  },
  {
   "cell_type": "code",
   "execution_count": null,
   "metadata": {
    "collapsed": true
   },
   "outputs": [],
   "source": [
    "get_eiu('Total debt (% of GDP)', eiu_data, 'total_debt.xlsx','Source: Economist Intelligence Unit (Oct. 2017)')"
   ]
  },
  {
   "cell_type": "code",
   "execution_count": null,
   "metadata": {
    "collapsed": true
   },
   "outputs": [],
   "source": [
    "get_eiu('International reserves (US$ billion)', eiu_data, 'reserves.xlsx','Source: Economist Intelligence Unit (Oct. 2017)')"
   ]
  },
  {
   "cell_type": "code",
   "execution_count": null,
   "metadata": {
    "collapsed": true
   },
   "outputs": [],
   "source": [
    "get_eiu('Interest paid (% of GDP)', eiu_data, 'interest.xlsx','Source: Economist Intelligence Unit (Oct. 2017)')"
   ]
  },
  {
   "cell_type": "markdown",
   "metadata": {},
   "source": [
    "# IMF File"
   ]
  },
  {
   "cell_type": "code",
   "execution_count": null,
   "metadata": {
    "collapsed": true
   },
   "outputs": [],
   "source": [
    "get_eiu('General Government Revenue (% of GDP)', imf_data, 'gov_revenue.xlsx', 'Source: IMF (Oct. 2017)')"
   ]
  },
  {
   "cell_type": "code",
   "execution_count": null,
   "metadata": {
    "collapsed": true
   },
   "outputs": [],
   "source": [
    "get_eiu('General Government Total Expenditure (% of GDP)', imf_data, 'gov_expenditure.xlsx', 'Source: IMF (Oct. 2017)')"
   ]
  },
  {
   "cell_type": "code",
   "execution_count": null,
   "metadata": {
    "collapsed": true
   },
   "outputs": [],
   "source": [
    "get_eiu('Gross National Savings (% of GDP)', imf_data, 'saving.xlsx', 'Source: IMF (Oct. 2017)')"
   ]
  },
  {
   "cell_type": "code",
   "execution_count": null,
   "metadata": {
    "collapsed": true
   },
   "outputs": [],
   "source": [
    "get_eiu('Total Investment (% of GDP)', imf_data, 'investment.xlsx', 'Source: IMF (Oct. 2017)')"
   ]
  },
  {
   "cell_type": "code",
   "execution_count": null,
   "metadata": {
    "collapsed": true
   },
   "outputs": [],
   "source": [
    "get_eiu('Current GDP PPP Per Capita (US$)', imf_data, 'GDPPPP.xlsx', 'Source: IMF (Oct. 2017)',width=7)"
   ]
  },
  {
   "cell_type": "code",
   "execution_count": null,
   "metadata": {
    "collapsed": true
   },
   "outputs": [],
   "source": [
    "get_eiu('General Government Gross Debt (% of GDP)', imf_data, 'gov_debt.xlsx', 'Source: IMF (Oct. 2017)')"
   ]
  },
  {
   "cell_type": "markdown",
   "metadata": {},
   "source": [
    "# generate html"
   ]
  },
  {
   "cell_type": "code",
   "execution_count": 58,
   "metadata": {
    "collapsed": true
   },
   "outputs": [],
   "source": [
    "def delimit(mylist,insert):\n",
    "    import numpy as np\n",
    "    sup1 = ''\n",
    "    sup2 = ''\n",
    "    mylistnp = np.array(mylist)\n",
    "    nonnan = np.where(~np.isnan(mylistnp))[0]\n",
    "    start = nonnan[0]\n",
    "    last = nonnan[len(nonnan)-1]\n",
    "    ll = mylist[start:last]\n",
    "    llnp = np.array(ll)\n",
    "    llnp = np.around(llnp,decimals=1)\n",
    "    if start > 0:\n",
    "        sup1 = 1990 + start\n",
    "    if last < 32:\n",
    "        sup2 = 1990 + last\n",
    "    myarray = ','.join(str(e) for e in llnp.tolist())\n",
    "    myarray = myarray.replace('nan', 'null')\n",
    "    myresult =  \"<tr><th scope='row'>{}</th><td>{:.1f}<sup>{}</sup></td><td>{:.1f}<sup>{}</sup></td><td><canvas id='BHR' class='sparkline' data-chart_values=[{}]></canvas></td></tr>\".format(insert,mylist[start],sup1,mylist[last],sup2,myarray)\n",
    "    return myresult\n"
   ]
  },
  {
   "cell_type": "code",
   "execution_count": 59,
   "metadata": {
    "collapsed": true
   },
   "outputs": [],
   "source": [
    "def country_html2(df, c_code, c_name):\n",
    "    import numpy as np\n",
    "    head = '''\n",
    "     <h1>{} \n",
    "                <a href='indicators/xl/{}.xlsx'>\n",
    "                  <i class=\"fa fa-file-excel-o\" aria-hidden=\"true\" style=\"float: right\"></i>\n",
    "                  </a>\n",
    "                  <a href='indicators/pdf/{}.pdf'>\n",
    "                  <i class=\"fa fa-file-pdf-o\" aria-hidden=\"true\" style=\"float: right\">&nbsp;&nbsp;&nbsp;</i>\n",
    "                  </a>\n",
    "                  </h1>\n",
    "                <div class=\"table-responsive\">\n",
    "                  <table class=\"table table-striped\">\n",
    "               <thead>\n",
    "                <tr>\n",
    "                  <th></th>\n",
    "                  <th>1990</th>\n",
    "                  <th>2022</th>\n",
    "                  <th></th>\n",
    "                </tr>\n",
    "               </thead>\n",
    "               <tbody>\n",
    "\n",
    "    '''.format(c_name,c_code, c_code)\n",
    "    foot = '''\n",
    "                </tbody>\n",
    "              </table>\n",
    "            </div> \n",
    "            <script src=\"js/line.js\"></script>   \n",
    "        '''\n",
    "    insert = ''\n",
    "    for index, row in df.iterrows():\n",
    "        ll = row[1:].tolist() \n",
    "        npll = np.array(ll)\n",
    "        nonnan = np.where(~np.isnan(npll))[0] # index of non nan\n",
    "        if nonnan.size == 0: # if the list is full of values for all years\n",
    "            insert = insert + \"<tr><th scope='row'>{}</th><td>..</td><td>..</td><td><canvas id='BHR'></canvas></td></tr>\".format(row['Economy'])         \n",
    "        else:\n",
    "            insert = insert + delimit(ll,row['Economy'])\n",
    "    final = head + insert + foot\n",
    "    Html_file= open(\"{}.html\".format(c_code),\"w\")\n",
    "    Html_file.write(final)\n",
    "    Html_file.close()"
   ]
  },
  {
   "cell_type": "code",
   "execution_count": 10,
   "metadata": {
    "collapsed": true
   },
   "outputs": [],
   "source": [
    "file = 'indicators/xl/bud_balance.xlsx'"
   ]
  },
  {
   "cell_type": "code",
   "execution_count": 11,
   "metadata": {},
   "outputs": [],
   "source": [
    "df1 = pd.read_excel(file, sheetname='countries', header=1, skiprows=1, na_values=['..','--'])"
   ]
  },
  {
   "cell_type": "code",
   "execution_count": 12,
   "metadata": {},
   "outputs": [],
   "source": [
    "df2 = pd.read_excel(file, sheetname='aggregates', header=1, skiprows=1, na_values=['..','--'])"
   ]
  },
  {
   "cell_type": "code",
   "execution_count": 13,
   "metadata": {},
   "outputs": [],
   "source": [
    "df = pd.concat([df1,df2])"
   ]
  },
  {
   "cell_type": "code",
   "execution_count": 71,
   "metadata": {
    "collapsed": true
   },
   "outputs": [],
   "source": [
    "def prepare_html(filename):\n",
    "    file = 'indicators/xl/{}.xlsx'.format(filename)\n",
    "    df1 = pd.read_excel(file, sheetname='countries', header=1, skiprows=1, na_values=['..','--'])\n",
    "    df2 = pd.read_excel(file, sheetname='aggregates', header=1, skiprows=1, na_values=['..','--'])\n",
    "    return pd.concat([df1,df2])"
   ]
  },
  {
   "cell_type": "code",
   "execution_count": 72,
   "metadata": {},
   "outputs": [],
   "source": [
    "country_html2(prepare_html('bud_balance'), 'bud_balance', 'Budget balance (% of GDP)')"
   ]
  },
  {
   "cell_type": "code",
   "execution_count": 81,
   "metadata": {
    "collapsed": true
   },
   "outputs": [],
   "source": [
    "country_html2(prepare_html('gov_revenue'), 'gov_revenue', 'General Government Revenue (% of GDP)')"
   ]
  },
  {
   "cell_type": "code",
   "execution_count": 80,
   "metadata": {
    "collapsed": true
   },
   "outputs": [],
   "source": [
    "country_html2(prepare_html('gov_expenditure'), 'gov_expenditure', 'General Government Total Expenditure (% of GDP)')"
   ]
  },
  {
   "cell_type": "code",
   "execution_count": 79,
   "metadata": {
    "collapsed": true
   },
   "outputs": [],
   "source": [
    "country_html2(prepare_html('saving'), 'saving', 'Gross National Saving (% of GDP)')"
   ]
  },
  {
   "cell_type": "code",
   "execution_count": 78,
   "metadata": {
    "collapsed": true
   },
   "outputs": [],
   "source": [
    "country_html2(prepare_html('investment'), 'investment', 'Total Investment (% of GDP)')"
   ]
  },
  {
   "cell_type": "code",
   "execution_count": 77,
   "metadata": {
    "collapsed": true
   },
   "outputs": [],
   "source": [
    "country_html2(prepare_html('GDPPPP'), 'GDPPPP', 'Current GDP PPP Per Capita (US$)')"
   ]
  },
  {
   "cell_type": "code",
   "execution_count": 76,
   "metadata": {
    "collapsed": true
   },
   "outputs": [],
   "source": [
    "country_html2(prepare_html('trade_balance'), 'trade_balance', 'Trade Balance (% of GDP)')"
   ]
  },
  {
   "cell_type": "code",
   "execution_count": 75,
   "metadata": {
    "collapsed": true
   },
   "outputs": [],
   "source": [
    "country_html2(prepare_html('gov_debt'), 'gov_debt', 'General Government Gross Debt (% of GDP)')"
   ]
  },
  {
   "cell_type": "code",
   "execution_count": 74,
   "metadata": {
    "collapsed": true
   },
   "outputs": [],
   "source": [
    "country_html2(prepare_html('total_debt'), 'total_debt', 'Total Debt (% of GDP)')"
   ]
  },
  {
   "cell_type": "code",
   "execution_count": 73,
   "metadata": {
    "collapsed": true
   },
   "outputs": [],
   "source": [
    "country_html2(prepare_html('reserves'), 'reserves', 'International Reserves (US$ Billion)')"
   ]
  },
  {
   "cell_type": "code",
   "execution_count": 82,
   "metadata": {
    "collapsed": true
   },
   "outputs": [],
   "source": [
    "country_html2(prepare_html('interest'), 'interest', 'Interest Paid (% of GDP)')"
   ]
  },
  {
   "cell_type": "code",
   "execution_count": 30,
   "metadata": {},
   "outputs": [],
   "source": [
    "lll = df.loc[df['Economy']=='Brunei'].values[0].tolist()"
   ]
  },
  {
   "cell_type": "code",
   "execution_count": 37,
   "metadata": {},
   "outputs": [
    {
     "data": {
      "text/plain": [
       "array([  nan,   nan,   nan, -16.6, -31.2, -31.1, -12. , -16. , -20.3,\n",
       "         nan,   4. ,  -0.7,  -5.2,   nan,   5.4,  10.8,  20.3,  21.4,\n",
       "        21.4,  29.7,  -2.3,  14.7,  25.5,  15.9,   7.7,  -1. , -15.1,\n",
       "       -23. , -16.3,   nan,   nan,   nan,   nan])"
      ]
     },
     "execution_count": 37,
     "metadata": {},
     "output_type": "execute_result"
    }
   ],
   "source": [
    "lllnp"
   ]
  },
  {
   "cell_type": "code",
   "execution_count": 38,
   "metadata": {
    "collapsed": true
   },
   "outputs": [],
   "source": [
    "nonnan = np.where(~np.isnan(lllnp))[0]"
   ]
  },
  {
   "cell_type": "code",
   "execution_count": 39,
   "metadata": {},
   "outputs": [
    {
     "data": {
      "text/plain": [
       "array([ 3,  4,  5,  6,  7,  8, 10, 11, 12, 14, 15, 16, 17, 18, 19, 20, 21,\n",
       "       22, 23, 24, 25, 26, 27, 28])"
      ]
     },
     "execution_count": 39,
     "metadata": {},
     "output_type": "execute_result"
    }
   ],
   "source": [
    "nonnan"
   ]
  },
  {
   "cell_type": "code",
   "execution_count": 41,
   "metadata": {},
   "outputs": [],
   "source": [
    "start = nonnan[0]\n",
    "last = nonnan[len(nonnan)-1]\n",
    "ll = lllnp[start:last]"
   ]
  },
  {
   "cell_type": "code",
   "execution_count": 42,
   "metadata": {},
   "outputs": [
    {
     "data": {
      "text/plain": [
       "array([-16.6, -31.2, -31.1, -12. , -16. , -20.3,   nan,   4. ,  -0.7,\n",
       "        -5.2,   nan,   5.4,  10.8,  20.3,  21.4,  21.4,  29.7,  -2.3,\n",
       "        14.7,  25.5,  15.9,   7.7,  -1. , -15.1, -23. ])"
      ]
     },
     "execution_count": 42,
     "metadata": {},
     "output_type": "execute_result"
    }
   ],
   "source": [
    "ll"
   ]
  },
  {
   "cell_type": "code",
   "execution_count": 47,
   "metadata": {},
   "outputs": [
    {
     "ename": "NameError",
     "evalue": "name 'NULL' is not defined",
     "output_type": "error",
     "traceback": [
      "\u001b[0;31m---------------------------------------------------------------------------\u001b[0m",
      "\u001b[0;31mNameError\u001b[0m                                 Traceback (most recent call last)",
      "\u001b[0;32m<ipython-input-47-f6a9e26af561>\u001b[0m in \u001b[0;36m<module>\u001b[0;34m()\u001b[0m\n\u001b[0;32m----> 1\u001b[0;31m \u001b[0mnp\u001b[0m\u001b[0;34m.\u001b[0m\u001b[0mwhere\u001b[0m\u001b[0;34m(\u001b[0m\u001b[0mnp\u001b[0m\u001b[0;34m.\u001b[0m\u001b[0misnan\u001b[0m\u001b[0;34m(\u001b[0m\u001b[0mll\u001b[0m\u001b[0;34m)\u001b[0m\u001b[0;34m,\u001b[0m \u001b[0mNULL\u001b[0m\u001b[0;34m,\u001b[0m\u001b[0mll\u001b[0m\u001b[0;34m)\u001b[0m\u001b[0;34m\u001b[0m\u001b[0m\n\u001b[0m",
      "\u001b[0;31mNameError\u001b[0m: name 'NULL' is not defined"
     ]
    }
   ],
   "source": [
    "np.where(np.isnan(ll), NULL,ll)"
   ]
  },
  {
   "cell_type": "code",
   "execution_count": 49,
   "metadata": {},
   "outputs": [],
   "source": [
    "llist=ll.tolist()"
   ]
  },
  {
   "cell_type": "code",
   "execution_count": 50,
   "metadata": {
    "collapsed": true
   },
   "outputs": [],
   "source": [
    "teststring = 'data-chart_values=[-5.7,-5.1,-2.5,-1.5,-2.4,0.2,nan,-3.7,3.2,6.1,-0.6,1.3,2.3,1.4,-0.2,3.6,6.3,5.4,4.8,2.8,-0.2,-3.4,-2.4,-4.1,-4.7,-2.8,-6.5,-5.7,-6.6,-5.8,-5.3]>'"
   ]
  },
  {
   "cell_type": "code",
   "execution_count": 51,
   "metadata": {},
   "outputs": [
    {
     "data": {
      "text/plain": [
       "'data-chart_values=[-5.7,-5.1,-2.5,-1.5,-2.4,0.2,nan,-3.7,3.2,6.1,-0.6,1.3,2.3,1.4,-0.2,3.6,6.3,5.4,4.8,2.8,-0.2,-3.4,-2.4,-4.1,-4.7,-2.8,-6.5,-5.7,-6.6,-5.8,-5.3]>'"
      ]
     },
     "execution_count": 51,
     "metadata": {},
     "output_type": "execute_result"
    }
   ],
   "source": [
    "teststring"
   ]
  },
  {
   "cell_type": "code",
   "execution_count": 52,
   "metadata": {},
   "outputs": [
    {
     "data": {
      "text/plain": [
       "'data-chart_values=[-5.7,-5.1,-2.5,-1.5,-2.4,0.2,null,-3.7,3.2,6.1,-0.6,1.3,2.3,1.4,-0.2,3.6,6.3,5.4,4.8,2.8,-0.2,-3.4,-2.4,-4.1,-4.7,-2.8,-6.5,-5.7,-6.6,-5.8,-5.3]>'"
      ]
     },
     "execution_count": 52,
     "metadata": {},
     "output_type": "execute_result"
    }
   ],
   "source": [
    "teststring.replace(',nan,', ',null,')"
   ]
  },
  {
   "cell_type": "code",
   "execution_count": null,
   "metadata": {
    "collapsed": true
   },
   "outputs": [],
   "source": []
  }
 ],
 "metadata": {
  "kernelspec": {
   "display_name": "Python 3",
   "language": "python",
   "name": "python3"
  },
  "language_info": {
   "codemirror_mode": {
    "name": "ipython",
    "version": 3
   },
   "file_extension": ".py",
   "mimetype": "text/x-python",
   "name": "python",
   "nbconvert_exporter": "python",
   "pygments_lexer": "ipython3",
   "version": "3.6.1"
  }
 },
 "nbformat": 4,
 "nbformat_minor": 2
}
